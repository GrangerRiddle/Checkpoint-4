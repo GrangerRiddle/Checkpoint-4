{
 "cells": [
  {
   "cell_type": "code",
   "execution_count": 55,
   "id": "5c89872e",
   "metadata": {},
   "outputs": [
    {
     "data": {
      "text/plain": [
       "45"
      ]
     },
     "execution_count": 55,
     "metadata": {},
     "output_type": "execute_result"
    }
   ],
   "source": [
    "# Question 1\n",
    "def maximum(y, z):\n",
    "    if x >= y and x >= z:\n",
    "        return x\n",
    "    elif y >= x and y >= z:\n",
    "        return y\n",
    "    else:\n",
    "        return z\n",
    "max(2, 45, 10)"
   ]
  },
  {
   "cell_type": "code",
   "execution_count": 56,
   "id": "214036da",
   "metadata": {},
   "outputs": [
    {
     "data": {
      "text/plain": [
       "(7, 1)"
      ]
     },
     "execution_count": 56,
     "metadata": {},
     "output_type": "execute_result"
    }
   ],
   "source": [
    "# Question 2\n",
    "def calculation(x, y):\n",
    "    return x + y, x - y\n",
    "calculation(4, 3)"
   ]
  },
  {
   "cell_type": "code",
   "execution_count": 57,
   "id": "d2bf9490",
   "metadata": {},
   "outputs": [
    {
     "data": {
      "text/plain": [
       "8"
      ]
     },
     "execution_count": 57,
     "metadata": {},
     "output_type": "execute_result"
    }
   ],
   "source": [
    "# Question 3, Part 1\n",
    "list1 = [1, 2, 2, 1, 2]\n",
    "def sum(list1):\n",
    "    s = 0\n",
    "    for i in range(len(list1)):\n",
    "        s = s + list1[i]\n",
    "    return s\n",
    "sum(list1)"
   ]
  },
  {
   "cell_type": "code",
   "execution_count": 58,
   "id": "400c2438",
   "metadata": {},
   "outputs": [
    {
     "data": {
      "text/plain": [
       "8"
      ]
     },
     "execution_count": 58,
     "metadata": {},
     "output_type": "execute_result"
    }
   ],
   "source": [
    "# Question 3, Part 2\n",
    "def multiplied(list1):\n",
    "    s = 1\n",
    "    for i in range(len(list1)):\n",
    "        s = s * list1[i]\n",
    "    return s\n",
    "multiplied(list1)"
   ]
  },
  {
   "cell_type": "code",
   "execution_count": 59,
   "id": "c6ca5f30",
   "metadata": {},
   "outputs": [
    {
     "data": {
      "text/plain": [
       "(0, 1)"
      ]
     },
     "execution_count": 59,
     "metadata": {},
     "output_type": "execute_result"
    }
   ],
   "source": [
    "# Question 3, Part 3\n",
    "list1 = [2, 4, 3, 2]\n",
    "def somme_multi(list1):\n",
    "    p = []\n",
    "    l = []\n",
    "    for i in range (len(l)):\n",
    "        if i%2 == 0:\n",
    "            p.append(l[i])\n",
    "        else:\n",
    "            l.append(l[i])\n",
    "    return sum(p), multiplied(l)\n",
    "somme_multi(list1)"
   ]
  },
  {
   "cell_type": "code",
   "execution_count": 60,
   "id": "5956aa91",
   "metadata": {},
   "outputs": [
    {
     "name": "stdout",
     "output_type": "stream",
     "text": [
      "Enter a hyphen-separated sequence of words: green-red-yellow-black-white\n",
      "black-green-red-white-yellow\n"
     ]
    }
   ],
   "source": [
    "# Question 4\n",
    "def ordre_alphabétique():\n",
    "    seq1 = input(\"Enter a hyphen-separated sequence of words: \").split('-')\n",
    "    seq1.sort()\n",
    "    print('-'.join(seq1))\n",
    "ordre_alphabétique()"
   ]
  },
  {
   "cell_type": "code",
   "execution_count": 54,
   "id": "8a0dac12",
   "metadata": {},
   "outputs": [
    {
     "name": "stdout",
     "output_type": "stream",
     "text": [
      "Enter three values in a comma-separated sequence: 100, 150, 180\n",
      "[18, 22, 24]\n"
     ]
    }
   ],
   "source": [
    "# Question 5\n",
    "import math\n",
    "def calcul_sqrt():\n",
    "    n = input(\"Enter three values in a comma-separated sequence: \")\n",
    "    n = n.split(',')\n",
    "    result = []\n",
    "    for D in n:\n",
    "        Q = round(math.sqrt(2*50*int(D)/30))\n",
    "        result.append(Q)\n",
    "    print(result)\n",
    "calcul_sqrt()"
   ]
  }
 ],
 "metadata": {
  "kernelspec": {
   "display_name": "Python 3",
   "language": "python",
   "name": "python3"
  },
  "language_info": {
   "codemirror_mode": {
    "name": "ipython",
    "version": 3
   },
   "file_extension": ".py",
   "mimetype": "text/x-python",
   "name": "python",
   "nbconvert_exporter": "python",
   "pygments_lexer": "ipython3",
   "version": "3.8.8"
  }
 },
 "nbformat": 4,
 "nbformat_minor": 5
}
